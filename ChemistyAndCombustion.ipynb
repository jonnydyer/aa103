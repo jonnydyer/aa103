{
 "cells": [
  {
   "cell_type": "code",
   "execution_count": 1,
   "metadata": {},
   "outputs": [
    {
     "name": "stdout",
     "output_type": "stream",
     "text": [
      "Populating the interactive namespace from numpy and matplotlib\n",
      "Loaded 1921 thermo species\n",
      "Loaded 1033 propellants\n"
     ]
    }
   ],
   "source": [
    "%pylab inline\n",
    "import pypropep as ppp\n",
    "import pprint\n",
    "ppp.init()"
   ]
  },
  {
   "cell_type": "markdown",
   "metadata": {},
   "source": [
    "# Chemistry and Combustion Fundamentals\n",
    "Chemistry and combustion fundamentals; the limits of the periodic table and chemical bonds; equilibrium chemistry calculations.\n",
    "\n",
    "## References\n",
    "\n",
    "- https://ntrs.nasa.gov/archive/nasa/casi.ntrs.nasa.gov/19780009781.pdf\n",
    "- https://ntrs.nasa.gov/archive/nasa/casi.ntrs.nasa.gov/19700022795.pdf\n",
    "\n",
    "## Quick Review and Motivation\n",
    "\n",
    "- $C = f(\\Delta H, M_w, \\gamma, ...)$\n",
    "- Specific power and energy for several energy sources\n",
    "- Chemical combustion, equillibrium thermodynamics and rocket gasdynamics\n",
    "\n",
    "## The Origins of Chemical Energy\n",
    "\n",
    "## Equillibrium thermodynamics and Le Chatelier's principle\n",
    "\n",
    "## Mixture properties\n",
    "\n",
    "## The combustion temperature calculation\n",
    "\n",
    "## Equillibrium rocket gas dynamics\n",
    "\n",
    "## Brief addendum on non-equillibrium combustion"
   ]
  },
  {
   "cell_type": "code",
   "execution_count": 7,
   "metadata": {},
   "outputs": [
    {
     "name": "stdout",
     "output_type": "stream",
     "text": [
      "Flame temperature: 1907.8 K\n",
      "C*: 1102.1 m/s\n",
      "C: 1590.8 m/s\n",
      "Composition:\n",
      "[(u'N2', 0.6632632866121014),\n",
      " (u'O2', 0.3298558446746052),\n",
      " (u'NO', 0.006750267943754766),\n",
      " (u'NO2', 9.544846466790265e-05),\n",
      " (u'O', 3.316961142537186e-05),\n",
      " (u'N2O', 1.9423659194878156e-06),\n",
      " (u'O3', 4.0327528265374136e-08),\n",
      " (u'N2O3', 0.0),\n",
      " (u'N2O4', 0.0),\n",
      " (u'N', 0.0),\n",
      " (u'N2O5', 0.0),\n",
      " (u'N3', 0.0),\n",
      " (u'NO3', 0.0)]\n"
     ]
    }
   ],
   "source": [
    "## N2O Decomposition\n",
    "\n",
    "n2o = ppp.PROPELLANTS['NITROUS OXIDE']\n",
    "fe = ppp.FrozenPerformance()\n",
    "fe.add_propellants([(n2o, 1.0)])\n",
    "fe.set_state(30, Pe=1.)\n",
    "\n",
    "print 'Flame temperature: %.1f K' % (fe.properties[0].T)\n",
    "print 'C*: %.1f m/s' % (fe.performance.cstar)\n",
    "print 'C: %.1f m/s' % (fe.performance.Isp)\n",
    "print 'Composition:'\n",
    "pprint.pprint(fe.composition['chamber'])"
   ]
  },
  {
   "cell_type": "code",
   "execution_count": 22,
   "metadata": {},
   "outputs": [
    {
     "name": "stdout",
     "output_type": "stream",
     "text": [
      "Flame temperature: 3557.4 K\n",
      "C*: 2125.0 m/s\n",
      "C: 3131.8 m/s\n",
      "Composition:\n",
      "[(u'H2O', 0.6593937471607763),\n",
      " (u'H2', 0.1308072873783619),\n",
      " (u'OH', 0.10528479151704373),\n",
      " (u'H', 0.04408734906091126),\n",
      " (u'O2', 0.03969480964143839),\n",
      " (u'O', 0.02053295250039767),\n",
      " (u'HO2', 0.00017312657060967372),\n",
      " (u'H2O2', 2.5752225445990198e-05),\n",
      " (u'O3', 1.8419818397370108e-07)]\n"
     ]
    }
   ],
   "source": [
    "h2 = ppp.PROPELLANTS['HYDROGEN (GASEOUS)']\n",
    "o2 = ppp.PROPELLANTS['OXYGEN (GAS)']\n",
    "fe = ppp.FrozenPerformance()\n",
    "fe.add_propellants([(h2, 1.0), (o2, 0.5)])\n",
    "fe.set_state(30, Pe=1.)\n",
    "\n",
    "print 'Flame temperature: %.1f K' % (fe.properties[0].T)\n",
    "print 'C*: %.1f m/s' % (fe.performance.cstar)\n",
    "print 'C: %.1f m/s' % (fe.performance.Isp)\n",
    "print 'Composition:'\n",
    "pprint.pprint(fe.composition['chamber'])"
   ]
  },
  {
   "cell_type": "code",
   "execution_count": null,
   "metadata": {},
   "outputs": [],
   "source": []
  }
 ],
 "metadata": {
  "kernelspec": {
   "display_name": "Python [default]",
   "language": "python",
   "name": "python2"
  },
  "language_info": {
   "codemirror_mode": {
    "name": "ipython",
    "version": 2
   },
   "file_extension": ".py",
   "mimetype": "text/x-python",
   "name": "python",
   "nbconvert_exporter": "python",
   "pygments_lexer": "ipython2",
   "version": "2.7.15"
  }
 },
 "nbformat": 4,
 "nbformat_minor": 2
}
